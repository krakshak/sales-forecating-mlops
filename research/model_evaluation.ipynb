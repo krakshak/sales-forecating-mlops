{
 "cells": [
  {
   "cell_type": "code",
   "execution_count": 1,
   "metadata": {},
   "outputs": [],
   "source": [
    "import os"
   ]
  },
  {
   "cell_type": "code",
   "execution_count": 2,
   "metadata": {},
   "outputs": [
    {
     "data": {
      "text/plain": [
       "'/Users/harshbhatt/Desktop/Projects/walmart-sales-forecast-mlops/research'"
      ]
     },
     "execution_count": 2,
     "metadata": {},
     "output_type": "execute_result"
    }
   ],
   "source": [
    "%pwd"
   ]
  },
  {
   "cell_type": "code",
   "execution_count": 3,
   "metadata": {},
   "outputs": [
    {
     "data": {
      "text/plain": [
       "'/Users/harshbhatt/Desktop/Projects/walmart-sales-forecast-mlops'"
      ]
     },
     "execution_count": 3,
     "metadata": {},
     "output_type": "execute_result"
    }
   ],
   "source": [
    "os.chdir(\"../\")\n",
    "%pwd"
   ]
  },
  {
   "cell_type": "code",
   "execution_count": 6,
   "metadata": {},
   "outputs": [],
   "source": [
    "# import dagshub\n",
    "# dagshub.init(repo_owner='harshvbhatt', repo_name='walmart-sales-forecast-mlops', mlflow=True)"
   ]
  },
  {
   "cell_type": "code",
   "execution_count": null,
   "metadata": {},
   "outputs": [],
   "source": [
    "os.environ[\"MLFLOW_TRACKING_URI\"] = \"https://dagshub.com/harshvbhatt/walmart-sales-forecast-mlops.mlflow\"\n",
    "os.environ[\"MLFLOW_TRACKING_USERNAME\"] = \"harshvbhatt\"\n",
    "os.environ[\"MLFLOW_TRACKING_PASSWORD\"] = \"#########\""
   ]
  },
  {
   "cell_type": "code",
   "execution_count": 15,
   "metadata": {},
   "outputs": [],
   "source": [
    "from dataclasses import dataclass, field\n",
    "from pathlib import Path\n",
    "\n",
    "@dataclass(frozen=True)\n",
    "class ModelEvaluationConfig:\n",
    "    root_dir: Path\n",
    "    test_data_path: Path\n",
    "    pipeline_path: Path \n",
    "    model_instance_path: Path\n",
    "    # all_params: dict\n",
    "    target_column: str\n",
    "    metrics_file_name: Path\n",
    "    mlflow_uri: str"
   ]
  },
  {
   "cell_type": "code",
   "execution_count": 9,
   "metadata": {},
   "outputs": [],
   "source": [
    "from projectFiles.constants import *\n",
    "from projectFiles.utils.common import read_yaml, create_directories, save_json"
   ]
  },
  {
   "cell_type": "code",
   "execution_count": 19,
   "metadata": {},
   "outputs": [],
   "source": [
    "class ConfigurationManager:\n",
    "    def __init__(self, config_filepath = CONFIG_FILE_PATH, params_filepath = PARAMS_FILE_PATH, schema_filepath = SCHEMA_FILE_PATH):\n",
    "        self.config = read_yaml(config_filepath)\n",
    "        self.params = read_yaml(params_filepath)\n",
    "        self.schema = read_yaml(schema_filepath)\n",
    "\n",
    "        create_directories([self.config.artifacts_root])\n",
    "\n",
    "    def get_model_evaluation_config(self) -> ModelEvaluationConfig:\n",
    "        config = self.config.model_evaluation\n",
    "        # params = self.params\n",
    "        schema = self.schema\n",
    "\n",
    "        create_directories([config.root_dir])\n",
    "        \n",
    "        model_evaluation_config = ModelEvaluationConfig(\n",
    "            root_dir = config.root_dir,\n",
    "            test_data_path = config.test_data_path,\n",
    "            pipeline_path = config.pipeline_path,\n",
    "            model_instance_path = config.model_instance_path,\n",
    "            # all_params = params,\n",
    "            metrics_file_name = config.metrics_file_name,\n",
    "            target_column = schema.TARGET_COLUMN.name,\n",
    "            mlflow_uri = \"https://dagshub.com/harshvbhatt/walmart-sales-forecast-mlops.mlflow\"\n",
    "        )\n",
    "\n",
    "        return model_evaluation_config"
   ]
  },
  {
   "cell_type": "code",
   "execution_count": 12,
   "metadata": {},
   "outputs": [],
   "source": [
    "import os\n",
    "import pandas as pd\n",
    "from sklearn.metrics import root_mean_squared_error, r2_score\n",
    "from sklearn.model_selection import cross_val_predict\n",
    "from urllib.parse import urlparse\n",
    "import mlflow\n",
    "import mlflow.sklearn\n",
    "import numpy as np\n",
    "import pickle"
   ]
  },
  {
   "cell_type": "code",
   "execution_count": 22,
   "metadata": {},
   "outputs": [],
   "source": [
    "class ModelEvaluation:\n",
    "    def __init__(self, config = ModelEvaluationConfig):\n",
    "        self.config = config\n",
    "\n",
    "    def eval_metrics(self, actual, pred):\n",
    "        rmse = root_mean_squared_error(actual, pred)\n",
    "        r2 = r2_score(actual, pred)\n",
    "        return rmse, r2\n",
    "    \n",
    "    def log_in_mlflow(self):\n",
    "        target_col = self.config.target_column\n",
    "        test_df = pd.read_csv(self.config.test_data_path)\n",
    "        with open(self.config.pipeline_path, 'rb') as file:\n",
    "            regressor_pipeline = pickle.load(file)\n",
    "        with open(self.config.model_instance_path, 'rb') as file:\n",
    "            model_instance = pickle.load(file)   \n",
    "\n",
    "        test_df.drop(columns=[\"Date\"], inplace = True)\n",
    "        test_x = test_df.drop(columns=target_col)\n",
    "        test_y = test_df[target_col]\n",
    "\n",
    "        mlflow.set_registry_uri(self.config.mlflow_uri)\n",
    "        tracking_url_type_store = urlparse(mlflow.get_tracking_uri()).scheme\n",
    "\n",
    "        with mlflow.start_run():\n",
    "            prediction = regressor_pipeline.predict(test_x)\n",
    "            \n",
    "            (rmse, r2) = self.eval_metrics(test_y, prediction)\n",
    "\n",
    "            scores = {\"rmse\":rmse, \"r2\":r2}\n",
    "            save_json(path = Path(self.config.metrics_file_name), data = scores)\n",
    "\n",
    "            mlflow.log_metric(\"rmse\", rmse)\n",
    "            mlflow.log_metric(\"r2\", r2)\n",
    "\n",
    "            if tracking_url_type_store != \"file\":\n",
    "                mlflow.sklearn.log_model(regressor_pipeline, \"model\", registered_model_name=\"LGBMRegressorPipeline\")\n",
    "            else:\n",
    "                mlflow.sklearn.log_model(regressor_pipeline, \"model\")"
   ]
  },
  {
   "cell_type": "code",
   "execution_count": 23,
   "metadata": {},
   "outputs": [
    {
     "name": "stdout",
     "output_type": "stream",
     "text": [
      "[2025-03-02 23:59:46,508: INFO: common: yaml file: config/config.yaml loaded successfully]\n",
      "[2025-03-02 23:59:46,510: INFO: common: yaml file: params.yaml loaded successfully]\n",
      "[2025-03-02 23:59:46,512: INFO: common: yaml file: schema.yaml loaded successfully]\n",
      "[2025-03-02 23:59:46,513: INFO: common: created directory at: artifacts]\n",
      "[2025-03-02 23:59:46,514: INFO: common: created directory at: artifacts/model_evaluation]\n",
      "[2025-03-02 23:59:46,725: INFO: common: json file saved at: artifacts/model_evaluation/metrics.json]\n"
     ]
    },
    {
     "name": "stderr",
     "output_type": "stream",
     "text": [
      "/Users/harshbhatt/anaconda3/envs/sales-forecast-mlops/lib/python3.13/site-packages/sklearn/utils/validation.py:2739: UserWarning: X does not have valid feature names, but LGBMRegressor was fitted with feature names\n",
      "  warnings.warn(\n",
      "\u001b[31m2025/03/02 23:59:49 WARNING mlflow.models.model: Model logged without a signature and input example. Please set `input_example` parameter when logging the model to auto infer the model signature.\u001b[0m\n",
      "Successfully registered model 'LGBMRegressorPipeline'.\n",
      "2025/03/02 23:59:52 INFO mlflow.store.model_registry.abstract_store: Waiting up to 300 seconds for model version to finish creation. Model name: LGBMRegressorPipeline, version 1\n",
      "Created version '1' of model 'LGBMRegressorPipeline'.\n"
     ]
    },
    {
     "name": "stdout",
     "output_type": "stream",
     "text": [
      "🏃 View run colorful-dolphin-759 at: https://dagshub.com/harshvbhatt/walmart-sales-forecast-mlops.mlflow/#/experiments/0/runs/34e711e5f2f3418aa40e818b9ed2ad75\n",
      "🧪 View experiment at: https://dagshub.com/harshvbhatt/walmart-sales-forecast-mlops.mlflow/#/experiments/0\n"
     ]
    }
   ],
   "source": [
    "try:\n",
    "    config = ConfigurationManager()\n",
    "    model_evaluation_config = config.get_model_evaluation_config()\n",
    "    model_evaluation = ModelEvaluation(config = model_evaluation_config)\n",
    "    model_evaluation.log_in_mlflow()\n",
    "except Exception as e:\n",
    "    raise e"
   ]
  }
 ],
 "metadata": {
  "kernelspec": {
   "display_name": "sales-forecast-mlops",
   "language": "python",
   "name": "python3"
  },
  "language_info": {
   "codemirror_mode": {
    "name": "ipython",
    "version": 3
   },
   "file_extension": ".py",
   "mimetype": "text/x-python",
   "name": "python",
   "nbconvert_exporter": "python",
   "pygments_lexer": "ipython3",
   "version": "3.13.2"
  }
 },
 "nbformat": 4,
 "nbformat_minor": 2
}
