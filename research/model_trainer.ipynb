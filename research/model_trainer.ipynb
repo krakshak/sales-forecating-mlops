{
 "cells": [
  {
   "cell_type": "code",
   "execution_count": 1,
   "metadata": {},
   "outputs": [],
   "source": [
    "import os"
   ]
  },
  {
   "cell_type": "code",
   "execution_count": 2,
   "metadata": {},
   "outputs": [
    {
     "data": {
      "text/plain": [
       "'/Users/harshbhatt/Desktop/Projects/walmart-sales-forecast-mlops/research'"
      ]
     },
     "execution_count": 2,
     "metadata": {},
     "output_type": "execute_result"
    }
   ],
   "source": [
    "%pwd"
   ]
  },
  {
   "cell_type": "code",
   "execution_count": 3,
   "metadata": {},
   "outputs": [
    {
     "data": {
      "text/plain": [
       "'/Users/harshbhatt/Desktop/Projects/walmart-sales-forecast-mlops'"
      ]
     },
     "execution_count": 3,
     "metadata": {},
     "output_type": "execute_result"
    }
   ],
   "source": [
    "os.chdir(\"../\")\n",
    "%pwd"
   ]
  },
  {
   "cell_type": "code",
   "execution_count": 4,
   "metadata": {},
   "outputs": [
    {
     "data": {
      "text/plain": [
       "6"
      ]
     },
     "execution_count": 4,
     "metadata": {},
     "output_type": "execute_result"
    }
   ],
   "source": [
    "import random\n",
    "random.randint(1, 96)"
   ]
  },
  {
   "cell_type": "code",
   "execution_count": 18,
   "metadata": {},
   "outputs": [],
   "source": [
    "from dataclasses import dataclass, field\n",
    "from pathlib import Path\n",
    "\n",
    "@dataclass(frozen=True)\n",
    "class ModelTrainerConfig:\n",
    "    root_dir: Path\n",
    "    train_data_path: Path\n",
    "    test_data_path: Path \n",
    "    pipeline_name: str\n",
    "    model_instance_name: str\n",
    "    # alpha: float\n",
    "    # l1_ratio: float\n",
    "    target_column: str"
   ]
  },
  {
   "cell_type": "code",
   "execution_count": 7,
   "metadata": {},
   "outputs": [],
   "source": [
    "from projectFiles.constants import *\n",
    "from projectFiles.utils.common import read_yaml, create_directories"
   ]
  },
  {
   "cell_type": "code",
   "execution_count": 22,
   "metadata": {},
   "outputs": [],
   "source": [
    "class ConfigurationManager:\n",
    "    def __init__(self, config_filepath = CONFIG_FILE_PATH, params_filepath = PARAMS_FILE_PATH, schema_filepath = SCHEMA_FILE_PATH):\n",
    "        self.config = read_yaml(config_filepath)\n",
    "        self.params = read_yaml(params_filepath)\n",
    "        self.schema = read_yaml(schema_filepath)\n",
    "\n",
    "    def get_model_trainer_config(self) -> ModelTrainerConfig:\n",
    "        config = self.config.model_trainer\n",
    "        schema = self.schema\n",
    "        # params = self.params\n",
    "\n",
    "        create_directories([config.root_dir])\n",
    "        \n",
    "        model_trainer_config = ModelTrainerConfig(\n",
    "            root_dir = config.root_dir,\n",
    "            train_data_path = config.train_data_path,\n",
    "            test_data_path = config.test_data_path,\n",
    "            pipeline_name = config.pipeline_name,\n",
    "            model_instance_name = config.model_instance_name,\n",
    "            # alpha = params.alpha,\n",
    "            # l1_ratio = params.l1_ratio,\n",
    "            target_column = schema.TARGET_COLUMN.name\n",
    "        )\n",
    "\n",
    "        return model_trainer_config"
   ]
  },
  {
   "cell_type": "code",
   "execution_count": 35,
   "metadata": {},
   "outputs": [],
   "source": [
    "import numpy as np\n",
    "import pandas as pd\n",
    "import pickle\n",
    "from lightgbm import LGBMRegressor\n",
    "from sklearn.metrics import root_mean_squared_error, r2_score\n",
    "from sklearn.preprocessing import MinMaxScaler \n",
    "from sklearn.compose import ColumnTransformer\n",
    "from sklearn.pipeline import make_pipeline\n",
    "from sklearn.model_selection import cross_val_predict\n",
    "from projectFiles import logger"
   ]
  },
  {
   "cell_type": "code",
   "execution_count": 36,
   "metadata": {},
   "outputs": [],
   "source": [
    "class ModelTrainer:\n",
    "    def __init__(self, config: ModelTrainerConfig):\n",
    "        self.config = config\n",
    "\n",
    "    def train(self):\n",
    "        target_col = self.config.target_column\n",
    "\n",
    "        train_df = pd.read_csv(self.config.train_data_path)\n",
    "        test_df = pd.read_csv(self.config.test_data_path)\n",
    "\n",
    "        train_df.drop(columns=[\"Date\"], inplace=True)\n",
    "        test_df.drop(columns=[\"Date\"], inplace = True)\n",
    "\n",
    "        categorical_cols = [c for c in train_df.columns if train_df[c].dtype in [object]]\n",
    "        numerical_cols = [c for c in train_df.columns if train_df[c].dtype in [float, int] and c != target_col]\n",
    "        cycl_num_cols = [c for c in train_df.columns if (\"sin\" in str(c)) or (\"cos\" in str(c))]\n",
    "\n",
    "        train_x = train_df.drop(columns=target_col)\n",
    "        train_y = train_df[target_col]\n",
    "        test_x = test_df.drop(columns=target_col)\n",
    "        test_y = test_df[target_col]\n",
    "\n",
    "        pipeline = make_pipeline(ColumnTransformer([(\"num\", MinMaxScaler(), [c for c in numerical_cols if c not in cycl_num_cols])]),\n",
    "                                 LGBMRegressor(n_jobs=-1, random_state=100))\n",
    "        regressor = pipeline.fit(train_x, train_y)\n",
    "        model_instance = regressor.named_steps[\"lgbmregressor\"]\n",
    "\n",
    "        pickle.dump(regressor, open(os.path.join(self.config.root_dir, self.config.pipeline_name), 'wb'))\n",
    "        logger.info(f\"Training Pipeline successfully saved at {self.config.root_dir}/{self.config.pipeline_name}\")\n",
    "        pickle.dump(model_instance, open(os.path.join(self.config.root_dir, self.config.model_instance_name), 'wb'))\n",
    "        logger.info(f\"Model Instance successfully saved at {self.config.root_dir}/{self.config.model_instance_name}\")\n",
    "    "
   ]
  },
  {
   "cell_type": "code",
   "execution_count": 37,
   "metadata": {},
   "outputs": [
    {
     "name": "stdout",
     "output_type": "stream",
     "text": [
      "[2025-03-02 21:54:32,762: INFO: common: yaml file: config/config.yaml loaded successfully]\n",
      "[2025-03-02 21:54:32,764: INFO: common: yaml file: params.yaml loaded successfully]\n",
      "[2025-03-02 21:54:32,766: INFO: common: yaml file: schema.yaml loaded successfully]\n",
      "[2025-03-02 21:54:32,767: INFO: common: created directory at: artifacts/model_trainer]\n",
      "[LightGBM] [Info] Auto-choosing row-wise multi-threading, the overhead of testing was 0.005498 seconds.\n",
      "You can set `force_row_wise=true` to remove the overhead.\n",
      "And if memory is not enough, you can set `force_col_wise=true`.\n",
      "[LightGBM] [Info] Total Bins 2457\n",
      "[LightGBM] [Info] Number of data points in the train set: 332778, number of used features: 14\n",
      "[LightGBM] [Info] Start training from score 16015.343048\n",
      "[2025-03-02 21:54:33,484: INFO: 1852907997: Training Pipeline successfully saved at artifacts/model_trainer/regressor_pipeline.pkl]\n",
      "[2025-03-02 21:54:33,486: INFO: 1852907997: Model Instance successfully saved at artifacts/model_trainer/model.pkl]\n"
     ]
    }
   ],
   "source": [
    "try:\n",
    "    config = ConfigurationManager()\n",
    "    model_trainer_config = config.get_model_trainer_config()\n",
    "    model_trainer = ModelTrainer(config = model_trainer_config)\n",
    "    model_trainer.train()\n",
    "except Exception as e:\n",
    "    raise e"
   ]
  }
 ],
 "metadata": {
  "kernelspec": {
   "display_name": "sales-forecast-mlops",
   "language": "python",
   "name": "python3"
  },
  "language_info": {
   "codemirror_mode": {
    "name": "ipython",
    "version": 3
   },
   "file_extension": ".py",
   "mimetype": "text/x-python",
   "name": "python",
   "nbconvert_exporter": "python",
   "pygments_lexer": "ipython3",
   "version": "3.13.2"
  }
 },
 "nbformat": 4,
 "nbformat_minor": 2
}
