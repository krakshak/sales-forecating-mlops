{
 "cells": [
  {
   "cell_type": "code",
   "execution_count": 12,
   "metadata": {},
   "outputs": [],
   "source": [
    "import numpy as np\n",
    "import pandas as pd\n",
    "import pickle\n",
    "from pathlib import Path\n",
    "import os\n",
    "from sklearn.metrics import r2_score"
   ]
  },
  {
   "cell_type": "code",
   "execution_count": 4,
   "metadata": {},
   "outputs": [
    {
     "data": {
      "text/plain": [
       "'/Users/harshbhatt/Desktop/Projects/walmart-sales-forecast-mlops/research'"
      ]
     },
     "execution_count": 4,
     "metadata": {},
     "output_type": "execute_result"
    }
   ],
   "source": [
    "%pwd"
   ]
  },
  {
   "cell_type": "code",
   "execution_count": 5,
   "metadata": {},
   "outputs": [
    {
     "data": {
      "text/plain": [
       "'/Users/harshbhatt/Desktop/Projects/walmart-sales-forecast-mlops'"
      ]
     },
     "execution_count": 5,
     "metadata": {},
     "output_type": "execute_result"
    }
   ],
   "source": [
    "os.chdir(\"../\")\n",
    "%pwd"
   ]
  },
  {
   "cell_type": "code",
   "execution_count": 8,
   "metadata": {},
   "outputs": [
    {
     "data": {
      "text/plain": [
       "Index(['Store', 'Dept', 'Date', 'Weekly_Sales', 'IsHoliday', 'Size',\n",
       "       'Temperature', 'Fuel_Price', 'MarkDown1', 'MarkDown2', 'MarkDown3',\n",
       "       'MarkDown4', 'MarkDown5', 'CPI', 'Unemployment', 'Year', 'Month',\n",
       "       'sin_Month', 'cos_Month', 'Week', 'sin_Week', 'cos_Week',\n",
       "       'Sales_Lag_1W', 'Sales_Lag_2W', 'Sales_Lag_4W', 'Sales_Rolling_Mean_4W',\n",
       "       'Sales_Rolling_Std_4W', 'Type_A', 'Type_B', 'Type_C'],\n",
       "      dtype='object')"
      ]
     },
     "execution_count": 8,
     "metadata": {},
     "output_type": "execute_result"
    }
   ],
   "source": [
    "data = pd.read_csv(\"artifacts/data_transformation/final_test_data.csv\")\n",
    "data.columns"
   ]
  },
  {
   "cell_type": "code",
   "execution_count": 9,
   "metadata": {},
   "outputs": [
    {
     "data": {
      "text/plain": [
       "['2012-04-06',\n",
       " '2012-04-13',\n",
       " '2012-04-20',\n",
       " '2012-04-27',\n",
       " '2012-05-04',\n",
       " '2012-05-11',\n",
       " '2012-05-18',\n",
       " '2012-05-25',\n",
       " '2012-06-01',\n",
       " '2012-06-08',\n",
       " '2012-06-15',\n",
       " '2012-06-22',\n",
       " '2012-06-29',\n",
       " '2012-07-06']"
      ]
     },
     "execution_count": 9,
     "metadata": {},
     "output_type": "execute_result"
    }
   ],
   "source": [
    "dates = np.sort(data[\"Date\"].unique()).tolist()\n",
    "dates"
   ]
  },
  {
   "cell_type": "code",
   "execution_count": 10,
   "metadata": {},
   "outputs": [],
   "source": [
    "with open(Path('artifacts/model_trainer/regressor_pipeline.pkl'), 'rb') as file:\n",
    "    model = pickle.load(file)"
   ]
  },
  {
   "cell_type": "code",
   "execution_count": 18,
   "metadata": {},
   "outputs": [
    {
     "name": "stdout",
     "output_type": "stream",
     "text": [
      "Log for 2012-04-06\n",
      "Samples = 2983\n",
      "r2_score = 0.9720346811629681\n",
      "\n",
      "Log for 2012-04-13\n",
      "Samples = 2977\n",
      "r2_score = 0.9904271089269125\n",
      "\n",
      "Log for 2012-04-20\n",
      "Samples = 2975\n",
      "r2_score = 0.9835181010868664\n",
      "\n",
      "Log for 2012-04-27\n",
      "Samples = 2954\n",
      "r2_score = 0.990059101430504\n",
      "\n",
      "Log for 2012-05-04\n",
      "Samples = 2955\n",
      "r2_score = 0.992339108285298\n",
      "\n",
      "Log for 2012-05-11\n",
      "Samples = 2973\n",
      "r2_score = 0.990033196742956\n",
      "\n",
      "Log for 2012-05-18\n",
      "Samples = 2953\n",
      "r2_score = 0.9907266042144437\n",
      "\n",
      "Log for 2012-05-25\n",
      "Samples = 2941\n",
      "r2_score = 0.9893791348865258\n",
      "\n",
      "Log for 2012-06-01\n",
      "Samples = 2943\n",
      "r2_score = 0.9895208724253993\n",
      "\n",
      "Log for 2012-06-08\n",
      "Samples = 2960\n",
      "r2_score = 0.9866824238034692\n",
      "\n",
      "Log for 2012-06-15\n",
      "Samples = 2956\n",
      "r2_score = 0.9926772307022845\n",
      "\n",
      "Log for 2012-06-22\n",
      "Samples = 2961\n",
      "r2_score = 0.9905572333722604\n",
      "\n",
      "Log for 2012-06-29\n",
      "Samples = 2933\n",
      "r2_score = 0.9916824711070882\n",
      "\n",
      "Log for 2012-07-06\n",
      "Samples = 2961\n",
      "r2_score = 0.9850267394610421\n",
      "\n"
     ]
    },
    {
     "name": "stderr",
     "output_type": "stream",
     "text": [
      "/Users/harshbhatt/anaconda3/envs/sales-forecast-mlops/lib/python3.13/site-packages/sklearn/utils/validation.py:2739: UserWarning: X does not have valid feature names, but LGBMRegressor was fitted with feature names\n",
      "  warnings.warn(\n",
      "/Users/harshbhatt/anaconda3/envs/sales-forecast-mlops/lib/python3.13/site-packages/sklearn/utils/validation.py:2739: UserWarning: X does not have valid feature names, but LGBMRegressor was fitted with feature names\n",
      "  warnings.warn(\n",
      "/Users/harshbhatt/anaconda3/envs/sales-forecast-mlops/lib/python3.13/site-packages/sklearn/utils/validation.py:2739: UserWarning: X does not have valid feature names, but LGBMRegressor was fitted with feature names\n",
      "  warnings.warn(\n",
      "/Users/harshbhatt/anaconda3/envs/sales-forecast-mlops/lib/python3.13/site-packages/sklearn/utils/validation.py:2739: UserWarning: X does not have valid feature names, but LGBMRegressor was fitted with feature names\n",
      "  warnings.warn(\n",
      "/Users/harshbhatt/anaconda3/envs/sales-forecast-mlops/lib/python3.13/site-packages/sklearn/utils/validation.py:2739: UserWarning: X does not have valid feature names, but LGBMRegressor was fitted with feature names\n",
      "  warnings.warn(\n",
      "/Users/harshbhatt/anaconda3/envs/sales-forecast-mlops/lib/python3.13/site-packages/sklearn/utils/validation.py:2739: UserWarning: X does not have valid feature names, but LGBMRegressor was fitted with feature names\n",
      "  warnings.warn(\n",
      "/Users/harshbhatt/anaconda3/envs/sales-forecast-mlops/lib/python3.13/site-packages/sklearn/utils/validation.py:2739: UserWarning: X does not have valid feature names, but LGBMRegressor was fitted with feature names\n",
      "  warnings.warn(\n",
      "/Users/harshbhatt/anaconda3/envs/sales-forecast-mlops/lib/python3.13/site-packages/sklearn/utils/validation.py:2739: UserWarning: X does not have valid feature names, but LGBMRegressor was fitted with feature names\n",
      "  warnings.warn(\n",
      "/Users/harshbhatt/anaconda3/envs/sales-forecast-mlops/lib/python3.13/site-packages/sklearn/utils/validation.py:2739: UserWarning: X does not have valid feature names, but LGBMRegressor was fitted with feature names\n",
      "  warnings.warn(\n",
      "/Users/harshbhatt/anaconda3/envs/sales-forecast-mlops/lib/python3.13/site-packages/sklearn/utils/validation.py:2739: UserWarning: X does not have valid feature names, but LGBMRegressor was fitted with feature names\n",
      "  warnings.warn(\n",
      "/Users/harshbhatt/anaconda3/envs/sales-forecast-mlops/lib/python3.13/site-packages/sklearn/utils/validation.py:2739: UserWarning: X does not have valid feature names, but LGBMRegressor was fitted with feature names\n",
      "  warnings.warn(\n",
      "/Users/harshbhatt/anaconda3/envs/sales-forecast-mlops/lib/python3.13/site-packages/sklearn/utils/validation.py:2739: UserWarning: X does not have valid feature names, but LGBMRegressor was fitted with feature names\n",
      "  warnings.warn(\n",
      "/Users/harshbhatt/anaconda3/envs/sales-forecast-mlops/lib/python3.13/site-packages/sklearn/utils/validation.py:2739: UserWarning: X does not have valid feature names, but LGBMRegressor was fitted with feature names\n",
      "  warnings.warn(\n",
      "/Users/harshbhatt/anaconda3/envs/sales-forecast-mlops/lib/python3.13/site-packages/sklearn/utils/validation.py:2739: UserWarning: X does not have valid feature names, but LGBMRegressor was fitted with feature names\n",
      "  warnings.warn(\n"
     ]
    }
   ],
   "source": [
    "for date in dates:\n",
    "    batch = data.loc[data[\"Date\"] == date].copy()\n",
    "    targets = batch[\"Weekly_Sales\"]\n",
    "    batch.drop(columns = [\"Date\", \"Weekly_Sales\"], inplace = True)\n",
    "    predictions = model.predict(batch)\n",
    "    r2 = r2_score(targets, predictions)\n",
    "    print(f\"Log for {date}\\nSamples = {len(batch)}\\nr2_score = {r2}\\n\")"
   ]
  },
  {
   "cell_type": "code",
   "execution_count": null,
   "metadata": {},
   "outputs": [],
   "source": []
  }
 ],
 "metadata": {
  "kernelspec": {
   "display_name": "sales-forecast-mlops",
   "language": "python",
   "name": "python3"
  },
  "language_info": {
   "codemirror_mode": {
    "name": "ipython",
    "version": 3
   },
   "file_extension": ".py",
   "mimetype": "text/x-python",
   "name": "python",
   "nbconvert_exporter": "python",
   "pygments_lexer": "ipython3",
   "version": "3.13.2"
  }
 },
 "nbformat": 4,
 "nbformat_minor": 2
}
